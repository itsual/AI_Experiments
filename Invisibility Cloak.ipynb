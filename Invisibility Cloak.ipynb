{
 "cells": [
  {
   "cell_type": "markdown",
   "metadata": {},
   "source": [
    "# Invisibility Cloak"
   ]
  },
  {
   "cell_type": "markdown",
   "metadata": {},
   "source": [
    "#### Using Color Detection and Segmentation with OpenCV"
   ]
  },
  {
   "cell_type": "code",
   "execution_count": null,
   "metadata": {},
   "outputs": [],
   "source": [
    "import cv2\n",
    "import numpy as np\n",
    "import time\n",
    "\n",
    "# Creating a VideoCapture object\n",
    "# This will be used for image acquisition later\n",
    "\n",
    "cap = cv2.VideoCapture(0)\n",
    "# Time for the camera to warm-up\n",
    "time.sleep(3)\n",
    "background=0\n",
    "\n",
    "for i in range(30):\n",
    "    ret,background = cap.read()\n",
    "\n",
    "# Laterally invert the image / flip the image\n",
    "background = np.flip(background,axis=1)\n",
    "\n",
    "# Capturing the live frame\n",
    "while(cap.isOpened()):\n",
    "    ret, img = cap.read()\n",
    "\n",
    "    # Invert / Flip the image \n",
    "    img = np.flip(img, axis = 1)\n",
    "\n",
    "    # Convert the image to HSV color space from RGB\n",
    "    hsv = cv2.cvtColor(img, cv2.COLOR_BGR2HSV)\n",
    "    blurred = cv2.GaussianBlur(hsv, (35, 35), 0)\n",
    "\n",
    "    # Defining lower range for red color detection\n",
    "    lower = np.array([0,120,70])\n",
    "    upper = np.array([10,255,255])\n",
    "    mask1 = cv2.inRange(hsv, lower, upper)\n",
    "\n",
    "    # Defining upper range for red color detection\n",
    "    lower_red = np.array([170,120,70])\n",
    "    upper_red = np.array([180,255,255])\n",
    "    mask2 = cv2.inRange(hsv, lower_red, upper_red)\n",
    "\n",
    "    # Generating the final mask to detect red color\n",
    "\n",
    "    mask = mask1 + mask2\n",
    "    mask = cv2.morphologyEx(mask, cv2.MORPH_OPEN, np.ones((5,5), np.uint8))\n",
    "\n",
    "    # Replacing pixels corresponding to cloak with the background pixels.\n",
    "    img[np.where(mask == 255)] = background[np.where(mask == 255)]\n",
    "    cv2.imshow('Display',img)\n",
    "    k = cv2.waitKey(10)\n",
    "    if k == 27:\n",
    "        break"
   ]
  },
  {
   "cell_type": "markdown",
   "metadata": {},
   "source": [
    "##### Reference:-\n",
    "- [LearnOpenCV.com](https://www.learnopencv.com/invisibility-cloak-using-color-detection-and-segmentation-with-opencv/)\n",
    "- [Github](https://github.com/Devashi-Choudhary/Invisible-Cloak-or-Adrishya-Choga)"
   ]
  },
  {
   "cell_type": "code",
   "execution_count": null,
   "metadata": {},
   "outputs": [],
   "source": []
  }
 ],
 "metadata": {
  "kernelspec": {
   "display_name": "Python 3",
   "language": "python",
   "name": "python3"
  },
  "language_info": {
   "codemirror_mode": {
    "name": "ipython",
    "version": 3
   },
   "file_extension": ".py",
   "mimetype": "text/x-python",
   "name": "python",
   "nbconvert_exporter": "python",
   "pygments_lexer": "ipython3",
   "version": "3.8.5"
  }
 },
 "nbformat": 4,
 "nbformat_minor": 4
}
