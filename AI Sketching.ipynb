{
 "cells": [
  {
   "cell_type": "markdown",
   "metadata": {},
   "source": [
    "# AI Sketching\n",
    "\n",
    "- This is demo code to sketch yourself live using OpenCV library\n",
    "- It uses your webcam to capture your image and then sketch you"
   ]
  },
  {
   "cell_type": "code",
   "execution_count": 1,
   "metadata": {},
   "outputs": [],
   "source": [
    "import cv2\n",
    "import numpy as np"
   ]
  },
  {
   "cell_type": "markdown",
   "metadata": {},
   "source": [
    "#### Simple binary thresholding"
   ]
  },
  {
   "cell_type": "code",
   "execution_count": 2,
   "metadata": {},
   "outputs": [],
   "source": [
    "def sketch(frame):\n",
    "    '''Generate sketch given an image \n",
    "    @paramaters: frame'''\n",
    "    gray = cv2.cvtColor(frame, cv2.COLOR_BGR2GRAY)\n",
    "    gray_blur = cv2.GaussianBlur(gray, (5,5), 0)\n",
    "    edges = cv2.Canny(gray_blur, 10, 70)\n",
    "    ret, mask = cv2.threshold(edges, 100, 255, cv2.THRESH_BINARY_INV)\n",
    "    return mask\n",
    "\n",
    "\n",
    "capture = cv2.VideoCapture(0)\n",
    "\n",
    "while (True):\n",
    "    response, frame = capture.read()\n",
    "    cv2.imshow(\"Those edges\", sketch(frame))\n",
    "    if cv2.waitKey(1) & 0xFF == ord('q'): #press \"q\" in keyboard to break teh code and come out\n",
    "        break\n",
    "\n",
    "capture.release()\n",
    "cv2.destroyAllWindows()"
   ]
  },
  {
   "cell_type": "markdown",
   "metadata": {},
   "source": [
    "#### Adaptive Thresholding"
   ]
  },
  {
   "cell_type": "code",
   "execution_count": 3,
   "metadata": {},
   "outputs": [],
   "source": [
    "def sketch(frame):\n",
    "    '''Generate sketch given an image \n",
    "    @paramaters: frame'''\n",
    "    gray = cv2.cvtColor(frame, cv2.COLOR_BGR2GRAY)\n",
    "    blur = cv2.GaussianBlur(gray, (5, 5), 0)\n",
    "    canny = cv2.Canny(blur, 10, 70)\n",
    "    #lap = cv2.Laplacian(blur, cv2.CV_8UC1)\n",
    "    # Adaptive Thresholding\n",
    "    thresh = cv2.adaptiveThreshold(canny, 255, cv2.ADAPTIVE_THRESH_MEAN_C, \n",
    "                               cv2.THRESH_BINARY, 3, 5)\n",
    "    return thresh\n",
    "\n",
    "capture = cv2.VideoCapture(0)\n",
    "\n",
    "while (True):\n",
    "    response, frame = capture.read()\n",
    "    cv2.imshow(\"Those edges(Adaptive Thresholding)\", sketch(frame))\n",
    "    if cv2.waitKey(1) & 0xFF == ord('q'):  #press \"q\" in keyboard to break teh code and come out\n",
    "        break\n",
    "\n",
    "capture.release()\n",
    "cv2.waitKey(0)\n",
    "cv2.destroyAllWindows()"
   ]
  },
  {
   "cell_type": "markdown",
   "metadata": {},
   "source": [
    "Read more about thresholding here\n",
    "- [openCV](https://opencv-python-tutroals.readthedocs.io/en/latest/py_tutorials/py_imgproc/py_thresholding/py_thresholding.html)\n",
    "- [Medium](https://medium.com/spinor/a-straightforward-introduction-to-image-thresholding-using-python-f1c085f02d5e)\n",
    "- [Thresholding](https://datacarpentry.org/image-processing/07-thresholding/)"
   ]
  },
  {
   "cell_type": "code",
   "execution_count": null,
   "metadata": {},
   "outputs": [],
   "source": []
  }
 ],
 "metadata": {
  "kernelspec": {
   "display_name": "Python 3",
   "language": "python",
   "name": "python3"
  },
  "language_info": {
   "codemirror_mode": {
    "name": "ipython",
    "version": 3
   },
   "file_extension": ".py",
   "mimetype": "text/x-python",
   "name": "python",
   "nbconvert_exporter": "python",
   "pygments_lexer": "ipython3",
   "version": "3.8.6"
  }
 },
 "nbformat": 4,
 "nbformat_minor": 4
}
