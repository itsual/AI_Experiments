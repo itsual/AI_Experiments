{
 "cells": [
  {
   "cell_type": "markdown",
   "id": "06ef9566",
   "metadata": {},
   "source": [
    "# Live Object Detection using OpenCV"
   ]
  },
  {
   "cell_type": "markdown",
   "id": "6fedb152",
   "metadata": {},
   "source": [
    "We'll look at a simple but critical tool for recognising colours using a mask. In this experiment, I'll demonstrate how to identify colours using the HSV colour space on Opencv using Python.\n",
    "\n",
    "https://www.lifewire.com/what-is-hsv-in-design-1078068\n",
    "HSV color components will be utilized here\n",
    "\n",
    "By grasping the ideas behind the balance of these three aspects, we may develop a simple color-based object identification system. In this article, I'll demonstrate in a few simple steps how to design a mask that balances our object's recognition in real-time."
   ]
  },
  {
   "cell_type": "code",
   "execution_count": null,
   "id": "0949c382",
   "metadata": {},
   "outputs": [],
   "source": [
    "import cv2 \n",
    "import numpy as np  \n",
    "cap = cv2.VideoCapture(0) \n",
    "while(1): \n",
    "    _,frame = cap.read() \n",
    "    hsv = cv2.cvtColor(frame, cv2.COLOR_BGR2HSV) \n",
    "    lower = np.array([0, 42, 0]) # any color except white\n",
    "    upper = np.array([179, 255, 255]) # any color except white\n",
    "    mask = cv2.inRange(hsv, lower, upper) \n",
    "    result = cv2.bitwise_and(frame, frame, mask = mask) \n",
    "    cv2.imshow('frame', frame) \n",
    "    cv2.imshow('mask', mask) \n",
    "    cv2.imshow('result', result) \n",
    "    k= cv2.waitKey(1)& 0XFF\n",
    "    if k==27:\n",
    "        break\n",
    "cv2.destroyAllWindows() \n",
    "cap.release()"
   ]
  },
  {
   "cell_type": "code",
   "execution_count": null,
   "id": "c2e816b5",
   "metadata": {},
   "outputs": [],
   "source": [
    "# Blue color\n",
    "cap = cv2.VideoCapture(0) \n",
    "while(1): \n",
    "    _,frame = cap.read() \n",
    "    hsv = cv2.cvtColor(frame, cv2.COLOR_BGR2HSV) \n",
    "    lower = np.array([94, 80, 2]) \n",
    "    upper = np.array([126, 255, 255])\n",
    "    mask = cv2.inRange(hsv, lower, upper) \n",
    "    result = cv2.bitwise_and(frame, frame, mask = mask) \n",
    "    cv2.imshow('frame', frame) \n",
    "    cv2.imshow('mask', mask) \n",
    "    cv2.imshow('result', result) \n",
    "    k= cv2.waitKey(1)& 0XFF\n",
    "    if k==27:\n",
    "        break\n",
    "cv2.destroyAllWindows() \n",
    "cap.release()"
   ]
  },
  {
   "cell_type": "code",
   "execution_count": null,
   "id": "bf7368bb",
   "metadata": {},
   "outputs": [],
   "source": [
    "# Red color\n",
    "cap = cv2.VideoCapture(0) \n",
    "while(1): \n",
    "    _,frame = cap.read() \n",
    "    hsv = cv2.cvtColor(frame, cv2.COLOR_BGR2HSV) \n",
    "    lower = np.array([161, 155, 84]) \n",
    "    upper = np.array([179, 255, 255])\n",
    "    mask = cv2.inRange(hsv, lower, upper) \n",
    "    result = cv2.bitwise_and(frame, frame, mask = mask) \n",
    "    cv2.imshow('frame', frame) \n",
    "    cv2.imshow('mask', mask) \n",
    "    cv2.imshow('result', result) \n",
    "    k= cv2.waitKey(1)& 0XFF\n",
    "    if k==27:\n",
    "        break\n",
    "cv2.destroyAllWindows() \n",
    "cap.release()"
   ]
  },
  {
   "cell_type": "code",
   "execution_count": null,
   "id": "ad6858aa",
   "metadata": {},
   "outputs": [],
   "source": [
    "# Green color\n",
    "cap = cv2.VideoCapture(0) \n",
    "while(1): \n",
    "    _,frame = cap.read() \n",
    "    hsv = cv2.cvtColor(frame, cv2.COLOR_BGR2HSV) \n",
    "    lower = np.array([25, 52, 72]) \n",
    "    upper = np.array([102, 255, 255])\n",
    "    mask = cv2.inRange(hsv, lower, upper) \n",
    "    result = cv2.bitwise_and(frame, frame, mask = mask) \n",
    "    cv2.imshow('frame', frame) \n",
    "    cv2.imshow('mask', mask) \n",
    "    cv2.imshow('result', result) \n",
    "    k= cv2.waitKey(1)& 0XFF\n",
    "    if k==27:\n",
    "        break\n",
    "cv2.destroyAllWindows() \n",
    "cap.release()"
   ]
  },
  {
   "cell_type": "code",
   "execution_count": null,
   "id": "abf9648c",
   "metadata": {},
   "outputs": [],
   "source": []
  }
 ],
 "metadata": {
  "kernelspec": {
   "display_name": "Python 3 (ipykernel)",
   "language": "python",
   "name": "python3"
  },
  "language_info": {
   "codemirror_mode": {
    "name": "ipython",
    "version": 3
   },
   "file_extension": ".py",
   "mimetype": "text/x-python",
   "name": "python",
   "nbconvert_exporter": "python",
   "pygments_lexer": "ipython3",
   "version": "3.9.7"
  }
 },
 "nbformat": 4,
 "nbformat_minor": 5
}
